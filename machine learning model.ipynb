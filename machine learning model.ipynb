{
 "cells": [
  {
   "cell_type": "code",
   "execution_count": 1,
   "metadata": {},
   "outputs": [
    {
     "name": "stderr",
     "output_type": "stream",
     "text": [
      "g:\\2025\\Projects\\ReelFeel - AI\\.venv\\Lib\\site-packages\\tqdm\\auto.py:21: TqdmWarning: IProgress not found. Please update jupyter and ipywidgets. See https://ipywidgets.readthedocs.io/en/stable/user_install.html\n",
      "  from .autonotebook import tqdm as notebook_tqdm\n"
     ]
    }
   ],
   "source": [
    "import pandas as pd\n",
    "import os\n",
    "from sentence_transformers import SentenceTransformer, util\n",
    "import torch"
   ]
  },
  {
   "cell_type": "code",
   "execution_count": 2,
   "metadata": {},
   "outputs": [
    {
     "name": "stdout",
     "output_type": "stream",
     "text": [
      "Missing values in each column:\n",
      "name            0\n",
      "year            0\n",
      "movie_rated     0\n",
      "run_length      0\n",
      "genres          0\n",
      "release_date    0\n",
      "rating          0\n",
      "description     0\n",
      "dtype: int64\n"
     ]
    }
   ],
   "source": [
    "# Load the dataset\n",
    "df = pd.read_csv('database.csv')\n",
    "\n",
    "# Check for missing values\n",
    "print(\"Missing values in each column:\")\n",
    "print(df.isnull().sum())"
   ]
  },
  {
   "cell_type": "code",
   "execution_count": 51,
   "metadata": {},
   "outputs": [
    {
     "name": "stderr",
     "output_type": "stream",
     "text": [
      "g:\\2025\\Projects\\ReelFeel - AI\\.venv\\Lib\\site-packages\\huggingface_hub\\file_download.py:142: UserWarning: `huggingface_hub` cache-system uses symlinks by default to efficiently store duplicated files but your machine does not support them in C:\\Users\\Nathan\\.cache\\huggingface\\hub\\models--sentence-transformers--all-mpnet-base-v2. Caching files will still work but in a degraded version that might require more space on your disk. This warning can be disabled by setting the `HF_HUB_DISABLE_SYMLINKS_WARNING` environment variable. For more details, see https://huggingface.co/docs/huggingface_hub/how-to-cache#limitations.\n",
      "To support symlinks on Windows, you either need to activate Developer Mode or to run Python as an administrator. In order to activate developer mode, see this article: https://docs.microsoft.com/en-us/windows/apps/get-started/enable-your-device-for-development\n",
      "  warnings.warn(message)\n"
     ]
    },
    {
     "name": "stdout",
     "output_type": "stream",
     "text": [
      "Movie embeddings saved as 'movie_embeddings.pt'.\n"
     ]
    }
   ],
   "source": [
    "df = pd.read_csv('database.csv')\n",
    "\n",
    "model = SentenceTransformer('all-mpnet-base-v2')\n",
    "\n",
    "# Encode all movie descriptions into embeddings\n",
    "movie_descriptions = df['description'].tolist()\n",
    "movie_embeddings = model.encode(movie_descriptions, convert_to_tensor=True)\n",
    "\n",
    "# Save the embeddings for future use\n",
    "torch.save(movie_embeddings, 'movie_embeddings.pt')\n",
    "print(\"Movie embeddings saved as 'movie_embeddings.pt'.\")"
   ]
  },
  {
   "cell_type": "code",
   "execution_count": 52,
   "metadata": {},
   "outputs": [],
   "source": [
    "def recommend_movies(user_prompt, filters=None, top_n=5):\n",
    "    # Apply filters if provided\n",
    "    filtered_df = df.copy()\n",
    "    if filters:\n",
    "        if 'genres' in filters:\n",
    "            filtered_df = filtered_df[filtered_df['genres'].str.contains(filters['genres'], case=False)]\n",
    "        if 'year' in filters:\n",
    "            filtered_df = filtered_df[filtered_df['year'] == filters['year']]\n",
    "        if 'rating' in filters:\n",
    "            filtered_df = filtered_df[filtered_df['rating'] >= filters['rating']]\n",
    "\n",
    "    # Get the indices of the filtered movies\n",
    "    filtered_indices = filtered_df.index.tolist()\n",
    "\n",
    "    # Filter the movie embeddings to match the filtered DataFrame\n",
    "    filtered_movie_embeddings = movie_embeddings[filtered_indices]\n",
    "\n",
    "    # Encode the user prompt\n",
    "    prompt_embedding = model.encode(user_prompt, convert_to_tensor=True)\n",
    "\n",
    "    # Compute cosine similarity between the prompt and the filtered movie descriptions\n",
    "    similarities = util.cos_sim(prompt_embedding, filtered_movie_embeddings)[0]\n",
    "\n",
    "    # Add similarity scores to the DataFrame\n",
    "    filtered_df['similarity'] = similarities.tolist()\n",
    "\n",
    "    # Sort by similarity and return top N results\n",
    "    top_movies = filtered_df.sort_values(by='similarity', ascending=False).head(top_n)\n",
    "    return top_movies"
   ]
  },
  {
   "cell_type": "code",
   "execution_count": null,
   "metadata": {},
   "outputs": [
    {
     "name": "stdout",
     "output_type": "stream",
     "text": [
      "Recommended Movies:\n",
      "                             name  year  rating  \\\n",
      "619             Pineapple Express  2008     6.9   \n",
      "15                 22 Jump Street  2014     7.0   \n",
      "14                 21 Jump Street  2012     7.2   \n",
      "537                  Men in Black  1997     7.3   \n",
      "469  Kingsman: The Secret Service  2014     7.7   \n",
      "\n",
      "                                           description  similarity  \n",
      "619  A stoner and his dealer are forced to go on th...    0.618382  \n",
      "15   After making their way through high school (tw...    0.592649  \n",
      "14   When cops Schmidt and Jenko join the secret Ju...    0.544719  \n",
      "537  After a police chase with an otherworldly bein...    0.542073  \n",
      "469  The story of a super-secret spy organization t...    0.514129  \n"
     ]
    }
   ],
   "source": [
    "# Slightly modified description of \"22 Jump Street\"\n",
    "user_prompt = \"A comedy about two undercover cops who go to college to solve a case, but end up questioning their friendship and growing as individuals.\"\n",
    "\n",
    "# Apply filters (e.g., genre, year, rating)\n",
    "filters = {'genres': 'Comedy', 'year': 2014, 'rating': 7.0}\n",
    "\n",
    "# Call the function\n",
    "recommended_movies = recommend_movies(user_prompt, filters)\n",
    "\n",
    "# Display results\n",
    "print(\"Recommended Movies:\")\n",
    "print(recommended_movies[['name', 'year', 'rating', 'description', 'similarity']])"
   ]
  },
  {
   "cell_type": "code",
   "execution_count": null,
   "metadata": {},
   "outputs": [],
   "source": []
  }
 ],
 "metadata": {
  "kernelspec": {
   "display_name": ".venv",
   "language": "python",
   "name": "python3"
  },
  "language_info": {
   "codemirror_mode": {
    "name": "ipython",
    "version": 3
   },
   "file_extension": ".py",
   "mimetype": "text/x-python",
   "name": "python",
   "nbconvert_exporter": "python",
   "pygments_lexer": "ipython3",
   "version": "3.12.4"
  }
 },
 "nbformat": 4,
 "nbformat_minor": 2
}
